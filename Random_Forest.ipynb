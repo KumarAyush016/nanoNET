{
 "cells": [
  {
   "cell_type": "code",
   "execution_count": 1,
   "id": "2639ba3d",
   "metadata": {},
   "outputs": [],
   "source": [
    "import glob,os\n",
    "import numpy as np\n",
    "import tensorflow as tf\n",
    "from tensorflow import keras\n",
    "import pandas as pd\n",
    "from tensorflow.keras.models import Sequential\n",
    "from tensorflow.keras.layers import Activation, Dense,Input, Lambda, Flatten,Conv2D,MaxPooling2D\n",
    "from tensorflow.keras.layers import Dropout\n",
    "from tensorflow.keras.optimizers import Adam\n",
    "import sklearn as sk\n",
    "from sklearn.metrics import mean_squared_error, mean_absolute_error , r2_score\n",
    "from sklearn import linear_model\n",
    "from sklearn.model_selection import train_test_split\n",
    "from sklearn.preprocessing import MinMaxScaler,StandardScaler\n",
    "import matplotlib.pyplot as plt\n",
    "# matplotlib inline\n",
    "from sklearn.decomposition import PCA\n",
    "from sklearn.cluster import KMeans\n",
    "\n",
    "from sklearn.model_selection import KFold\n",
    "\n",
    "plt.rcParams[\"figure.figsize\"] = (9,6)                  #changes width and height respectively\n",
    "plt.rcParams.update({'font.size': 16})\n",
    "plt.rcParams['pdf.fonttype'] = 42\n",
    "plt.rcParams['ps.fonttype'] = 42\n",
    "import csv\n",
    "import re\n",
    "import cv2\n",
    "import PIL\n",
    "from PIL import Image\n",
    "from numpy import asarray\n",
    "from keras.wrappers.scikit_learn import KerasRegressor\n",
    "from keras.models import load_model\n",
    "from keras.models import Model"
   ]
  },
  {
   "cell_type": "markdown",
   "id": "f227cfe6",
   "metadata": {},
   "source": [
    "# INPUT DATA"
   ]
  },
  {
   "cell_type": "code",
   "execution_count": 2,
   "id": "50b17c77",
   "metadata": {},
   "outputs": [],
   "source": [
    "x = np.loadtxt(\"/home/tarak/Downloads/input\")\n",
    "dataframe_x = pd.DataFrame(x)"
   ]
  },
  {
   "cell_type": "code",
   "execution_count": 3,
   "id": "e4b16948",
   "metadata": {},
   "outputs": [
    {
     "data": {
      "text/html": [
       "<div>\n",
       "<style scoped>\n",
       "    .dataframe tbody tr th:only-of-type {\n",
       "        vertical-align: middle;\n",
       "    }\n",
       "\n",
       "    .dataframe tbody tr th {\n",
       "        vertical-align: top;\n",
       "    }\n",
       "\n",
       "    .dataframe thead th {\n",
       "        text-align: right;\n",
       "    }\n",
       "</style>\n",
       "<table border=\"1\" class=\"dataframe\">\n",
       "  <thead>\n",
       "    <tr style=\"text-align: right;\">\n",
       "      <th></th>\n",
       "      <th>0</th>\n",
       "      <th>1</th>\n",
       "      <th>2</th>\n",
       "      <th>3</th>\n",
       "      <th>4</th>\n",
       "    </tr>\n",
       "  </thead>\n",
       "  <tbody>\n",
       "    <tr>\n",
       "      <th>0</th>\n",
       "      <td>0.2</td>\n",
       "      <td>0.2</td>\n",
       "      <td>4.0</td>\n",
       "      <td>8.0</td>\n",
       "      <td>25.0</td>\n",
       "    </tr>\n",
       "    <tr>\n",
       "      <th>1</th>\n",
       "      <td>0.2</td>\n",
       "      <td>0.4</td>\n",
       "      <td>3.0</td>\n",
       "      <td>8.0</td>\n",
       "      <td>30.0</td>\n",
       "    </tr>\n",
       "    <tr>\n",
       "      <th>2</th>\n",
       "      <td>0.2</td>\n",
       "      <td>0.6</td>\n",
       "      <td>2.0</td>\n",
       "      <td>8.0</td>\n",
       "      <td>35.0</td>\n",
       "    </tr>\n",
       "    <tr>\n",
       "      <th>3</th>\n",
       "      <td>0.2</td>\n",
       "      <td>0.8</td>\n",
       "      <td>4.0</td>\n",
       "      <td>8.0</td>\n",
       "      <td>40.0</td>\n",
       "    </tr>\n",
       "    <tr>\n",
       "      <th>4</th>\n",
       "      <td>0.2</td>\n",
       "      <td>1.0</td>\n",
       "      <td>3.0</td>\n",
       "      <td>8.0</td>\n",
       "      <td>25.0</td>\n",
       "    </tr>\n",
       "    <tr>\n",
       "      <th>...</th>\n",
       "      <td>...</td>\n",
       "      <td>...</td>\n",
       "      <td>...</td>\n",
       "      <td>...</td>\n",
       "      <td>...</td>\n",
       "    </tr>\n",
       "    <tr>\n",
       "      <th>73</th>\n",
       "      <td>0.6</td>\n",
       "      <td>2.0</td>\n",
       "      <td>4.0</td>\n",
       "      <td>12.0</td>\n",
       "      <td>30.0</td>\n",
       "    </tr>\n",
       "    <tr>\n",
       "      <th>74</th>\n",
       "      <td>0.8</td>\n",
       "      <td>1.5</td>\n",
       "      <td>3.0</td>\n",
       "      <td>12.0</td>\n",
       "      <td>35.0</td>\n",
       "    </tr>\n",
       "    <tr>\n",
       "      <th>75</th>\n",
       "      <td>0.8</td>\n",
       "      <td>2.5</td>\n",
       "      <td>2.0</td>\n",
       "      <td>12.0</td>\n",
       "      <td>40.0</td>\n",
       "    </tr>\n",
       "    <tr>\n",
       "      <th>76</th>\n",
       "      <td>1.0</td>\n",
       "      <td>1.5</td>\n",
       "      <td>5.0</td>\n",
       "      <td>12.0</td>\n",
       "      <td>25.0</td>\n",
       "    </tr>\n",
       "    <tr>\n",
       "      <th>77</th>\n",
       "      <td>1.0</td>\n",
       "      <td>2.5</td>\n",
       "      <td>4.0</td>\n",
       "      <td>12.0</td>\n",
       "      <td>30.0</td>\n",
       "    </tr>\n",
       "  </tbody>\n",
       "</table>\n",
       "<p>78 rows × 5 columns</p>\n",
       "</div>"
      ],
      "text/plain": [
       "      0    1    2     3     4\n",
       "0   0.2  0.2  4.0   8.0  25.0\n",
       "1   0.2  0.4  3.0   8.0  30.0\n",
       "2   0.2  0.6  2.0   8.0  35.0\n",
       "3   0.2  0.8  4.0   8.0  40.0\n",
       "4   0.2  1.0  3.0   8.0  25.0\n",
       "..  ...  ...  ...   ...   ...\n",
       "73  0.6  2.0  4.0  12.0  30.0\n",
       "74  0.8  1.5  3.0  12.0  35.0\n",
       "75  0.8  2.5  2.0  12.0  40.0\n",
       "76  1.0  1.5  5.0  12.0  25.0\n",
       "77  1.0  2.5  4.0  12.0  30.0\n",
       "\n",
       "[78 rows x 5 columns]"
      ]
     },
     "execution_count": 3,
     "metadata": {},
     "output_type": "execute_result"
    }
   ],
   "source": [
    "#dataframe_x.drop([3], axis = 1,inplace =True)\n",
    "#dataframe_x.columns = range(dataframe_x.shape[1])\n",
    "dataframe_x.iloc[39:78,3] =12\n",
    "dataframe_x"
   ]
  },
  {
   "cell_type": "code",
   "execution_count": 19,
   "id": "e690bfc5",
   "metadata": {},
   "outputs": [
    {
     "name": "stdout",
     "output_type": "stream",
     "text": [
      "Min Value 0.05\n",
      "Max Value 1.5\n",
      "----------------------------------------------------------------------------------------------------\n",
      "Min Value 0.1\n",
      "Max Value 2.5\n",
      "----------------------------------------------------------------------------------------------------\n",
      "Min Value 2.0\n",
      "Max Value 5.0\n",
      "----------------------------------------------------------------------------------------------------\n",
      "Min Value 8.0\n",
      "Max Value 12.0\n",
      "----------------------------------------------------------------------------------------------------\n",
      "Min Value 25.0\n",
      "Max Value 40.0\n",
      "----------------------------------------------------------------------------------------------------\n"
     ]
    }
   ],
   "source": [
    "for i in range(0,5):\n",
    "    print(\"Min Value\",dataframe_x.iloc[:,i].min())\n",
    "    print(\"Max Value\",dataframe_x.iloc[:,i].max())\n",
    "    print(50 *\"--\")"
   ]
  },
  {
   "cell_type": "markdown",
   "id": "38af64cc",
   "metadata": {},
   "source": [
    "dataframe_x[\"5\"]=\"\"\n",
    "dataframe_x\n",
    "\n",
    "for i in range(0,78):\n",
    "    if dataframe_x.iloc[i,3] == 8 and dataframe_x.iloc[i,4] == 25:\n",
    "        dataframe_x.iloc[i,5] = 1.13\n",
    "    if dataframe_x.iloc[i,3] == 8 and dataframe_x.iloc[i,4] == 30:\n",
    "        dataframe_x.iloc[i,5] = 1.20\n",
    "    if dataframe_x.iloc[i,3] == 8 and dataframe_x.iloc[i,4] == 35:\n",
    "        dataframe_x.iloc[i,5] = 1.26\n",
    "    if dataframe_x.iloc[i,3] == 8 and dataframe_x.iloc[i,4] == 40:\n",
    "        dataframe_x.iloc[i,5] = 1.3\n",
    "        \n",
    "        \n",
    "    if dataframe_x.iloc[i,3] == 12 and dataframe_x.iloc[i,4] == 25:\n",
    "        dataframe_x.iloc[i,5] = 1.14\n",
    "    if dataframe_x.iloc[i,3] == 12 and dataframe_x.iloc[i,4] == 30:\n",
    "        dataframe_x.iloc[i,5] = 1.19\n",
    "    if dataframe_x.iloc[i,3] == 12 and dataframe_x.iloc[i,4] == 35:\n",
    "        dataframe_x.iloc[i,5] = 1.25\n",
    "    if dataframe_x.iloc[i,3] == 12 and dataframe_x.iloc[i,4] == 40:\n",
    "        dataframe_x.iloc[i,5] = 1.31  \n",
    "        \n",
    "dataframe_x.iloc[:,5] = dataframe_x.iloc[:,5]*2\n",
    "dataframe_x.head()\n",
    "\n",
    "dataframe_x.iloc[:,5] = dataframe_x.iloc[:,5]*dataframe_x.iloc[:,5]*dataframe_x.iloc[:,5]\n",
    "dataframe_x.head()\n",
    "dataframe_x.iloc[:,3] = dataframe_x.iloc[:,3]/dataframe_x.iloc[:,5]\n",
    "dataframe_x\n",
    "\n",
    "dataframe_x.drop([\"5\"], axis = 1,inplace =True)\n",
    "dataframe_x.columns = range(dataframe_x.shape[1])\n",
    "dataframe_x.head()"
   ]
  },
  {
   "cell_type": "code",
   "execution_count": 4,
   "id": "2695a6a3",
   "metadata": {},
   "outputs": [],
   "source": [
    "#dataframe_x.iloc[39:78,3] = 12\n",
    "#dataframe_x.iloc[39:78,]"
   ]
  },
  {
   "cell_type": "code",
   "execution_count": null,
   "id": "280bf486",
   "metadata": {},
   "outputs": [],
   "source": []
  },
  {
   "cell_type": "markdown",
   "id": "6d3a884f",
   "metadata": {},
   "source": [
    "# OUTPUT DATA"
   ]
  },
  {
   "cell_type": "code",
   "execution_count": 5,
   "id": "8be645d9",
   "metadata": {},
   "outputs": [
    {
     "name": "stdout",
     "output_type": "stream",
     "text": [
      "(80, 1, 1, 8)\n"
     ]
    },
    {
     "ename": "ValueError",
     "evalue": "cannot resize this array: it does not own its data",
     "output_type": "error",
     "traceback": [
      "\u001b[0;31m---------------------------------------------------------------------------\u001b[0m",
      "\u001b[0;31mValueError\u001b[0m                                Traceback (most recent call last)",
      "\u001b[0;32m<ipython-input-5-f2e8b7354e7e>\u001b[0m in \u001b[0;36m<module>\u001b[0;34m\u001b[0m\n\u001b[1;32m      1\u001b[0m \u001b[0mget_ipython\u001b[0m\u001b[0;34m(\u001b[0m\u001b[0;34m)\u001b[0m\u001b[0;34m.\u001b[0m\u001b[0mrun_line_magic\u001b[0m\u001b[0;34m(\u001b[0m\u001b[0;34m'store'\u001b[0m\u001b[0;34m,\u001b[0m \u001b[0;34m'-r y'\u001b[0m\u001b[0;34m)\u001b[0m\u001b[0;34m\u001b[0m\u001b[0;34m\u001b[0m\u001b[0m\n\u001b[1;32m      2\u001b[0m \u001b[0mprint\u001b[0m\u001b[0;34m(\u001b[0m\u001b[0my\u001b[0m\u001b[0;34m.\u001b[0m\u001b[0mshape\u001b[0m\u001b[0;34m)\u001b[0m\u001b[0;34m\u001b[0m\u001b[0;34m\u001b[0m\u001b[0m\n\u001b[0;32m----> 3\u001b[0;31m \u001b[0my\u001b[0m\u001b[0;34m.\u001b[0m\u001b[0mresize\u001b[0m\u001b[0;34m(\u001b[0m\u001b[0;36m78\u001b[0m\u001b[0;34m,\u001b[0m\u001b[0;36m8\u001b[0m\u001b[0;34m)\u001b[0m\u001b[0;34m\u001b[0m\u001b[0;34m\u001b[0m\u001b[0m\n\u001b[0m\u001b[1;32m      4\u001b[0m \u001b[0my\u001b[0m\u001b[0;34m.\u001b[0m\u001b[0mshape\u001b[0m\u001b[0;34m\u001b[0m\u001b[0;34m\u001b[0m\u001b[0m\n",
      "\u001b[0;31mValueError\u001b[0m: cannot resize this array: it does not own its data"
     ]
    }
   ],
   "source": [
    "%store -r y\n",
    "print(y.shape)\n",
    "y.resize(78,8)\n",
    "y.shape"
   ]
  },
  {
   "cell_type": "code",
   "execution_count": 31,
   "id": "8140d323",
   "metadata": {},
   "outputs": [
    {
     "data": {
      "text/html": [
       "<div>\n",
       "<style scoped>\n",
       "    .dataframe tbody tr th:only-of-type {\n",
       "        vertical-align: middle;\n",
       "    }\n",
       "\n",
       "    .dataframe tbody tr th {\n",
       "        vertical-align: top;\n",
       "    }\n",
       "\n",
       "    .dataframe thead th {\n",
       "        text-align: right;\n",
       "    }\n",
       "</style>\n",
       "<table border=\"1\" class=\"dataframe\">\n",
       "  <thead>\n",
       "    <tr style=\"text-align: right;\">\n",
       "      <th></th>\n",
       "      <th>0</th>\n",
       "      <th>1</th>\n",
       "      <th>2</th>\n",
       "      <th>3</th>\n",
       "      <th>4</th>\n",
       "      <th>5</th>\n",
       "      <th>6</th>\n",
       "      <th>7</th>\n",
       "    </tr>\n",
       "  </thead>\n",
       "  <tbody>\n",
       "    <tr>\n",
       "      <th>0</th>\n",
       "      <td>5.460919</td>\n",
       "      <td>0.000000</td>\n",
       "      <td>5.254953</td>\n",
       "      <td>0.0</td>\n",
       "      <td>4.073275</td>\n",
       "      <td>3.691249</td>\n",
       "      <td>1.227391</td>\n",
       "      <td>0.0</td>\n",
       "    </tr>\n",
       "    <tr>\n",
       "      <th>1</th>\n",
       "      <td>5.229622</td>\n",
       "      <td>0.000000</td>\n",
       "      <td>3.730321</td>\n",
       "      <td>0.0</td>\n",
       "      <td>7.456198</td>\n",
       "      <td>2.753277</td>\n",
       "      <td>0.525029</td>\n",
       "      <td>0.0</td>\n",
       "    </tr>\n",
       "    <tr>\n",
       "      <th>2</th>\n",
       "      <td>1.842435</td>\n",
       "      <td>0.000000</td>\n",
       "      <td>1.175847</td>\n",
       "      <td>0.0</td>\n",
       "      <td>9.099530</td>\n",
       "      <td>1.049718</td>\n",
       "      <td>0.000000</td>\n",
       "      <td>0.0</td>\n",
       "    </tr>\n",
       "    <tr>\n",
       "      <th>3</th>\n",
       "      <td>5.322944</td>\n",
       "      <td>1.164837</td>\n",
       "      <td>8.079970</td>\n",
       "      <td>0.0</td>\n",
       "      <td>3.648814</td>\n",
       "      <td>1.098083</td>\n",
       "      <td>1.975190</td>\n",
       "      <td>0.0</td>\n",
       "    </tr>\n",
       "    <tr>\n",
       "      <th>4</th>\n",
       "      <td>5.022484</td>\n",
       "      <td>0.000000</td>\n",
       "      <td>4.635832</td>\n",
       "      <td>0.0</td>\n",
       "      <td>6.184453</td>\n",
       "      <td>2.697393</td>\n",
       "      <td>0.781410</td>\n",
       "      <td>0.0</td>\n",
       "    </tr>\n",
       "    <tr>\n",
       "      <th>...</th>\n",
       "      <td>...</td>\n",
       "      <td>...</td>\n",
       "      <td>...</td>\n",
       "      <td>...</td>\n",
       "      <td>...</td>\n",
       "      <td>...</td>\n",
       "      <td>...</td>\n",
       "      <td>...</td>\n",
       "    </tr>\n",
       "    <tr>\n",
       "      <th>73</th>\n",
       "      <td>3.028821</td>\n",
       "      <td>2.345976</td>\n",
       "      <td>6.762326</td>\n",
       "      <td>0.0</td>\n",
       "      <td>1.358938</td>\n",
       "      <td>2.816864</td>\n",
       "      <td>3.491851</td>\n",
       "      <td>0.0</td>\n",
       "    </tr>\n",
       "    <tr>\n",
       "      <th>74</th>\n",
       "      <td>4.435791</td>\n",
       "      <td>0.000000</td>\n",
       "      <td>2.634323</td>\n",
       "      <td>0.0</td>\n",
       "      <td>2.440074</td>\n",
       "      <td>6.487766</td>\n",
       "      <td>1.396982</td>\n",
       "      <td>0.0</td>\n",
       "    </tr>\n",
       "    <tr>\n",
       "      <th>75</th>\n",
       "      <td>4.289775</td>\n",
       "      <td>0.000000</td>\n",
       "      <td>3.161737</td>\n",
       "      <td>0.0</td>\n",
       "      <td>8.166748</td>\n",
       "      <td>0.000000</td>\n",
       "      <td>0.000000</td>\n",
       "      <td>0.0</td>\n",
       "    </tr>\n",
       "    <tr>\n",
       "      <th>76</th>\n",
       "      <td>0.503178</td>\n",
       "      <td>3.764909</td>\n",
       "      <td>5.270681</td>\n",
       "      <td>0.0</td>\n",
       "      <td>0.000000</td>\n",
       "      <td>0.781078</td>\n",
       "      <td>1.700436</td>\n",
       "      <td>0.0</td>\n",
       "    </tr>\n",
       "    <tr>\n",
       "      <th>77</th>\n",
       "      <td>0.954123</td>\n",
       "      <td>1.911337</td>\n",
       "      <td>3.682174</td>\n",
       "      <td>0.0</td>\n",
       "      <td>1.330593</td>\n",
       "      <td>4.107999</td>\n",
       "      <td>3.530999</td>\n",
       "      <td>0.0</td>\n",
       "    </tr>\n",
       "  </tbody>\n",
       "</table>\n",
       "<p>78 rows × 8 columns</p>\n",
       "</div>"
      ],
      "text/plain": [
       "           0         1         2    3         4         5         6    7\n",
       "0   5.460919  0.000000  5.254953  0.0  4.073275  3.691249  1.227391  0.0\n",
       "1   5.229622  0.000000  3.730321  0.0  7.456198  2.753277  0.525029  0.0\n",
       "2   1.842435  0.000000  1.175847  0.0  9.099530  1.049718  0.000000  0.0\n",
       "3   5.322944  1.164837  8.079970  0.0  3.648814  1.098083  1.975190  0.0\n",
       "4   5.022484  0.000000  4.635832  0.0  6.184453  2.697393  0.781410  0.0\n",
       "..       ...       ...       ...  ...       ...       ...       ...  ...\n",
       "73  3.028821  2.345976  6.762326  0.0  1.358938  2.816864  3.491851  0.0\n",
       "74  4.435791  0.000000  2.634323  0.0  2.440074  6.487766  1.396982  0.0\n",
       "75  4.289775  0.000000  3.161737  0.0  8.166748  0.000000  0.000000  0.0\n",
       "76  0.503178  3.764909  5.270681  0.0  0.000000  0.781078  1.700436  0.0\n",
       "77  0.954123  1.911337  3.682174  0.0  1.330593  4.107999  3.530999  0.0\n",
       "\n",
       "[78 rows x 8 columns]"
      ]
     },
     "execution_count": 31,
     "metadata": {},
     "output_type": "execute_result"
    }
   ],
   "source": [
    "dataframe_y= pd.DataFrame(y)\n",
    "dataframe_y"
   ]
  },
  {
   "cell_type": "markdown",
   "id": "0e987bb8",
   "metadata": {},
   "source": [
    "# NORMALISING DATA"
   ]
  },
  {
   "cell_type": "code",
   "execution_count": 32,
   "id": "e581e661",
   "metadata": {},
   "outputs": [
    {
     "name": "stdout",
     "output_type": "stream",
     "text": [
      "(78, 5)\n"
     ]
    },
    {
     "data": {
      "text/plain": [
       "(78, 8)"
      ]
     },
     "execution_count": 32,
     "metadata": {},
     "output_type": "execute_result"
    }
   ],
   "source": [
    "scaler_x = StandardScaler()\n",
    "dataframe_x = scaler_x.fit_transform(dataframe_x)\n",
    "scaler_y = StandardScaler()\n",
    "dataframe_y = scaler_y.fit_transform(dataframe_y)\n",
    "print(dataframe_x.shape)\n",
    "dataframe_y.shape"
   ]
  },
  {
   "cell_type": "code",
   "execution_count": 33,
   "id": "f2e3f141",
   "metadata": {},
   "outputs": [
    {
     "name": "stdout",
     "output_type": "stream",
     "text": [
      "(78, 5)\n"
     ]
    },
    {
     "data": {
      "text/plain": [
       "(78, 8)"
      ]
     },
     "execution_count": 33,
     "metadata": {},
     "output_type": "execute_result"
    }
   ],
   "source": [
    "scaler2_x = MinMaxScaler()\n",
    "dataframe_x = scaler2_x.fit_transform(dataframe_x)\n",
    "scaler2_y = MinMaxScaler()\n",
    "dataframe_y = scaler2_y.fit_transform(dataframe_y)\n",
    "print(dataframe_x.shape)\n",
    "dataframe_y.shape"
   ]
  },
  {
   "cell_type": "code",
   "execution_count": 34,
   "id": "97b6ca8f",
   "metadata": {},
   "outputs": [],
   "source": [
    "dataframe_x = pd.DataFrame(dataframe_x)\n",
    "dataframe_y = pd.DataFrame(dataframe_y)\n",
    "#dataframe_y"
   ]
  },
  {
   "cell_type": "markdown",
   "id": "fe448fba",
   "metadata": {},
   "source": [
    "# TEST_TRAIN SPLIT"
   ]
  },
  {
   "cell_type": "code",
   "execution_count": 6,
   "id": "1760ae57",
   "metadata": {},
   "outputs": [
    {
     "ename": "NameError",
     "evalue": "name 'dataframe_y' is not defined",
     "output_type": "error",
     "traceback": [
      "\u001b[0;31m---------------------------------------------------------------------------\u001b[0m",
      "\u001b[0;31mNameError\u001b[0m                                 Traceback (most recent call last)",
      "\u001b[0;32m<ipython-input-6-c830bbdad495>\u001b[0m in \u001b[0;36m<module>\u001b[0;34m\u001b[0m\n\u001b[0;32m----> 1\u001b[0;31m \u001b[0mtrain_x\u001b[0m\u001b[0;34m,\u001b[0m \u001b[0mtest_x\u001b[0m\u001b[0;34m,\u001b[0m \u001b[0mtrain_y\u001b[0m\u001b[0;34m,\u001b[0m \u001b[0mtest_y\u001b[0m \u001b[0;34m=\u001b[0m\u001b[0mtrain_test_split\u001b[0m\u001b[0;34m(\u001b[0m\u001b[0mdataframe_x\u001b[0m \u001b[0;34m,\u001b[0m \u001b[0mdataframe_y\u001b[0m \u001b[0;34m,\u001b[0m \u001b[0mtest_size\u001b[0m \u001b[0;34m=\u001b[0m \u001b[0;36m0.2\u001b[0m\u001b[0;34m,\u001b[0m \u001b[0mrandom_state\u001b[0m \u001b[0;34m=\u001b[0m \u001b[0;36m42\u001b[0m\u001b[0;34m,\u001b[0m \u001b[0mshuffle\u001b[0m \u001b[0;34m=\u001b[0m \u001b[0;32mTrue\u001b[0m\u001b[0;34m)\u001b[0m\u001b[0;34m\u001b[0m\u001b[0;34m\u001b[0m\u001b[0m\n\u001b[0m",
      "\u001b[0;31mNameError\u001b[0m: name 'dataframe_y' is not defined"
     ]
    }
   ],
   "source": [
    "train_x, test_x, train_y, test_y =train_test_split(dataframe_x , dataframe_y , test_size = 0.2, random_state = 42, shuffle = True)"
   ]
  },
  {
   "cell_type": "code",
   "execution_count": 36,
   "id": "4acb1e7f",
   "metadata": {},
   "outputs": [
    {
     "data": {
      "text/html": [
       "<div>\n",
       "<style scoped>\n",
       "    .dataframe tbody tr th:only-of-type {\n",
       "        vertical-align: middle;\n",
       "    }\n",
       "\n",
       "    .dataframe tbody tr th {\n",
       "        vertical-align: top;\n",
       "    }\n",
       "\n",
       "    .dataframe thead th {\n",
       "        text-align: right;\n",
       "    }\n",
       "</style>\n",
       "<table border=\"1\" class=\"dataframe\">\n",
       "  <thead>\n",
       "    <tr style=\"text-align: right;\">\n",
       "      <th></th>\n",
       "      <th>0</th>\n",
       "      <th>1</th>\n",
       "      <th>2</th>\n",
       "      <th>3</th>\n",
       "      <th>4</th>\n",
       "      <th>5</th>\n",
       "      <th>6</th>\n",
       "      <th>7</th>\n",
       "    </tr>\n",
       "  </thead>\n",
       "  <tbody>\n",
       "    <tr>\n",
       "      <th>33</th>\n",
       "      <td>0.000000</td>\n",
       "      <td>0.358471</td>\n",
       "      <td>0.624474</td>\n",
       "      <td>0.0</td>\n",
       "      <td>0.174505</td>\n",
       "      <td>0.219387</td>\n",
       "      <td>0.417167</td>\n",
       "      <td>0.0</td>\n",
       "    </tr>\n",
       "    <tr>\n",
       "      <th>0</th>\n",
       "      <td>0.893614</td>\n",
       "      <td>0.000000</td>\n",
       "      <td>0.617553</td>\n",
       "      <td>0.0</td>\n",
       "      <td>0.446109</td>\n",
       "      <td>0.483636</td>\n",
       "      <td>0.206168</td>\n",
       "      <td>0.0</td>\n",
       "    </tr>\n",
       "    <tr>\n",
       "      <th>34</th>\n",
       "      <td>0.433893</td>\n",
       "      <td>0.220886</td>\n",
       "      <td>0.730051</td>\n",
       "      <td>0.0</td>\n",
       "      <td>0.150512</td>\n",
       "      <td>0.416190</td>\n",
       "      <td>0.590400</td>\n",
       "      <td>0.0</td>\n",
       "    </tr>\n",
       "    <tr>\n",
       "      <th>12</th>\n",
       "      <td>0.617748</td>\n",
       "      <td>0.096178</td>\n",
       "      <td>0.646474</td>\n",
       "      <td>0.0</td>\n",
       "      <td>0.155428</td>\n",
       "      <td>0.641234</td>\n",
       "      <td>0.513372</td>\n",
       "      <td>0.0</td>\n",
       "    </tr>\n",
       "    <tr>\n",
       "      <th>10</th>\n",
       "      <td>0.815350</td>\n",
       "      <td>0.000000</td>\n",
       "      <td>0.267679</td>\n",
       "      <td>0.0</td>\n",
       "      <td>0.574688</td>\n",
       "      <td>0.536854</td>\n",
       "      <td>0.010974</td>\n",
       "      <td>0.0</td>\n",
       "    </tr>\n",
       "    <tr>\n",
       "      <th>77</th>\n",
       "      <td>0.156131</td>\n",
       "      <td>0.199007</td>\n",
       "      <td>0.432723</td>\n",
       "      <td>0.0</td>\n",
       "      <td>0.145728</td>\n",
       "      <td>0.538240</td>\n",
       "      <td>0.593112</td>\n",
       "      <td>0.0</td>\n",
       "    </tr>\n",
       "    <tr>\n",
       "      <th>30</th>\n",
       "      <td>0.661974</td>\n",
       "      <td>0.216051</td>\n",
       "      <td>0.991436</td>\n",
       "      <td>0.0</td>\n",
       "      <td>0.338368</td>\n",
       "      <td>0.014757</td>\n",
       "      <td>0.394776</td>\n",
       "      <td>0.0</td>\n",
       "    </tr>\n",
       "    <tr>\n",
       "      <th>4</th>\n",
       "      <td>0.821869</td>\n",
       "      <td>0.000000</td>\n",
       "      <td>0.544795</td>\n",
       "      <td>0.0</td>\n",
       "      <td>0.677327</td>\n",
       "      <td>0.353419</td>\n",
       "      <td>0.131256</td>\n",
       "      <td>0.0</td>\n",
       "    </tr>\n",
       "    <tr>\n",
       "      <th>49</th>\n",
       "      <td>0.828070</td>\n",
       "      <td>0.000000</td>\n",
       "      <td>0.206302</td>\n",
       "      <td>0.0</td>\n",
       "      <td>0.585829</td>\n",
       "      <td>0.687237</td>\n",
       "      <td>0.012605</td>\n",
       "      <td>0.0</td>\n",
       "    </tr>\n",
       "    <tr>\n",
       "      <th>66</th>\n",
       "      <td>0.536279</td>\n",
       "      <td>0.243037</td>\n",
       "      <td>0.835954</td>\n",
       "      <td>0.0</td>\n",
       "      <td>0.160194</td>\n",
       "      <td>0.237605</td>\n",
       "      <td>0.530595</td>\n",
       "      <td>0.0</td>\n",
       "    </tr>\n",
       "    <tr>\n",
       "      <th>61</th>\n",
       "      <td>0.295515</td>\n",
       "      <td>0.054714</td>\n",
       "      <td>0.160976</td>\n",
       "      <td>0.0</td>\n",
       "      <td>0.166110</td>\n",
       "      <td>0.785929</td>\n",
       "      <td>0.422837</td>\n",
       "      <td>0.0</td>\n",
       "    </tr>\n",
       "    <tr>\n",
       "      <th>22</th>\n",
       "      <td>0.310004</td>\n",
       "      <td>0.038358</td>\n",
       "      <td>0.152110</td>\n",
       "      <td>0.0</td>\n",
       "      <td>0.183063</td>\n",
       "      <td>0.809036</td>\n",
       "      <td>0.426893</td>\n",
       "      <td>0.0</td>\n",
       "    </tr>\n",
       "    <tr>\n",
       "      <th>72</th>\n",
       "      <td>0.000000</td>\n",
       "      <td>0.352793</td>\n",
       "      <td>0.610046</td>\n",
       "      <td>0.0</td>\n",
       "      <td>0.161966</td>\n",
       "      <td>0.243613</td>\n",
       "      <td>0.417111</td>\n",
       "      <td>0.0</td>\n",
       "    </tr>\n",
       "    <tr>\n",
       "      <th>54</th>\n",
       "      <td>0.550545</td>\n",
       "      <td>0.000000</td>\n",
       "      <td>0.513034</td>\n",
       "      <td>0.0</td>\n",
       "      <td>0.101400</td>\n",
       "      <td>0.915187</td>\n",
       "      <td>0.525642</td>\n",
       "      <td>0.0</td>\n",
       "    </tr>\n",
       "    <tr>\n",
       "      <th>18</th>\n",
       "      <td>0.314655</td>\n",
       "      <td>0.148401</td>\n",
       "      <td>0.532020</td>\n",
       "      <td>0.0</td>\n",
       "      <td>0.181090</td>\n",
       "      <td>0.816732</td>\n",
       "      <td>0.710735</td>\n",
       "      <td>0.0</td>\n",
       "    </tr>\n",
       "    <tr>\n",
       "      <th>44</th>\n",
       "      <td>0.030614</td>\n",
       "      <td>0.000000</td>\n",
       "      <td>0.015243</td>\n",
       "      <td>0.0</td>\n",
       "      <td>0.930980</td>\n",
       "      <td>0.113075</td>\n",
       "      <td>0.000000</td>\n",
       "      <td>0.0</td>\n",
       "    </tr>\n",
       "  </tbody>\n",
       "</table>\n",
       "</div>"
      ],
      "text/plain": [
       "           0         1         2    3         4         5         6    7\n",
       "33  0.000000  0.358471  0.624474  0.0  0.174505  0.219387  0.417167  0.0\n",
       "0   0.893614  0.000000  0.617553  0.0  0.446109  0.483636  0.206168  0.0\n",
       "34  0.433893  0.220886  0.730051  0.0  0.150512  0.416190  0.590400  0.0\n",
       "12  0.617748  0.096178  0.646474  0.0  0.155428  0.641234  0.513372  0.0\n",
       "10  0.815350  0.000000  0.267679  0.0  0.574688  0.536854  0.010974  0.0\n",
       "77  0.156131  0.199007  0.432723  0.0  0.145728  0.538240  0.593112  0.0\n",
       "30  0.661974  0.216051  0.991436  0.0  0.338368  0.014757  0.394776  0.0\n",
       "4   0.821869  0.000000  0.544795  0.0  0.677327  0.353419  0.131256  0.0\n",
       "49  0.828070  0.000000  0.206302  0.0  0.585829  0.687237  0.012605  0.0\n",
       "66  0.536279  0.243037  0.835954  0.0  0.160194  0.237605  0.530595  0.0\n",
       "61  0.295515  0.054714  0.160976  0.0  0.166110  0.785929  0.422837  0.0\n",
       "22  0.310004  0.038358  0.152110  0.0  0.183063  0.809036  0.426893  0.0\n",
       "72  0.000000  0.352793  0.610046  0.0  0.161966  0.243613  0.417111  0.0\n",
       "54  0.550545  0.000000  0.513034  0.0  0.101400  0.915187  0.525642  0.0\n",
       "18  0.314655  0.148401  0.532020  0.0  0.181090  0.816732  0.710735  0.0\n",
       "44  0.030614  0.000000  0.015243  0.0  0.930980  0.113075  0.000000  0.0"
      ]
     },
     "execution_count": 36,
     "metadata": {},
     "output_type": "execute_result"
    }
   ],
   "source": [
    "test_y"
   ]
  },
  {
   "cell_type": "code",
   "execution_count": 37,
   "id": "795b5224",
   "metadata": {},
   "outputs": [
    {
     "name": "stdout",
     "output_type": "stream",
     "text": [
      "Stored 'index_values' (Int64Index)\n"
     ]
    }
   ],
   "source": [
    "index_values = test_y.index\n",
    "%store index_values"
   ]
  },
  {
   "cell_type": "markdown",
   "id": "ae4129cc",
   "metadata": {},
   "source": [
    "# RANDOM-FOREST "
   ]
  },
  {
   "cell_type": "code",
   "execution_count": 38,
   "id": "c72693c8",
   "metadata": {},
   "outputs": [
    {
     "data": {
      "text/plain": [
       "RandomForestRegressor(n_estimators=35, random_state=42)"
      ]
     },
     "execution_count": 38,
     "metadata": {},
     "output_type": "execute_result"
    }
   ],
   "source": [
    "from sklearn.ensemble import RandomForestRegressor\n",
    " \n",
    "regressor = RandomForestRegressor(n_estimators = 35, random_state = 42)\n",
    " \n",
    "# fit the regressor with x and y data\n",
    "regressor.fit(train_x, train_y)"
   ]
  },
  {
   "cell_type": "markdown",
   "id": "1e24642f",
   "metadata": {},
   "source": [
    "# PREDICTIONS_ON_TRAIN_DATA"
   ]
  },
  {
   "cell_type": "code",
   "execution_count": 39,
   "id": "6ab76e61",
   "metadata": {},
   "outputs": [
    {
     "name": "stdout",
     "output_type": "stream",
     "text": [
      "Mean squared error :  0.0024826309574249427\n",
      "Root mean square error : 0.049826006838045354\n"
     ]
    }
   ],
   "source": [
    "predictions_on_trained_data = regressor.predict(train_x)\n",
    "mse = mean_squared_error(train_y, predictions_on_trained_data)\n",
    "rmse = mse**.5\n",
    "print('Mean squared error : ',mse)\n",
    "print('Root mean square error :',rmse)"
   ]
  },
  {
   "cell_type": "markdown",
   "id": "4d5360b5",
   "metadata": {},
   "source": [
    "# PREDICTIONS ON TEST_DATA"
   ]
  },
  {
   "cell_type": "code",
   "execution_count": 40,
   "id": "fb5038d8",
   "metadata": {},
   "outputs": [
    {
     "name": "stdout",
     "output_type": "stream",
     "text": [
      "Mean squared error :  0.010447802681302779\n",
      "Root mean square error : 0.10221449349922339\n"
     ]
    }
   ],
   "source": [
    "predictions = regressor.predict(test_x)\n",
    "mse = mean_squared_error(test_y, predictions)\n",
    "rmse = mse**.5\n",
    "print('Mean squared error : ',mse)\n",
    "print('Root mean square error :',rmse)"
   ]
  },
  {
   "cell_type": "markdown",
   "id": "e4ca37f9",
   "metadata": {},
   "source": [
    "# R2_SCORES"
   ]
  },
  {
   "cell_type": "code",
   "execution_count": 41,
   "id": "fe221246",
   "metadata": {},
   "outputs": [
    {
     "name": "stdout",
     "output_type": "stream",
     "text": [
      "R squared value on trained data is 0.9692566269093268\n",
      "R squared value on   test  data is 0.8219727063698226\n"
     ]
    }
   ],
   "source": [
    "r_squared = r2_score(train_y, predictions_on_trained_data)\n",
    "print('R squared value on trained data is', r_squared)\n",
    "r_squared = r2_score(test_y, predictions)\n",
    "print('R squared value on   test  data is', r_squared)"
   ]
  },
  {
   "cell_type": "code",
   "execution_count": 86,
   "id": "76cf40de",
   "metadata": {},
   "outputs": [
    {
     "data": {
      "text/plain": [
       "<function matplotlib.pyplot.show(close=None, block=None)>"
      ]
     },
     "execution_count": 86,
     "metadata": {},
     "output_type": "execute_result"
    },
    {
     "data": {
      "image/png": "[encoded data removed]",
      "text/plain": [
       "<Figure size 432x432 with 1 Axes>"
      ]
     },
     "metadata": {
      "needs_background": "light"
     },
     "output_type": "display_data"
    }
   ],
   "source": [
    "plt.rcParams[\"figure.figsize\"] = (6,6)\n",
    "plt.rcParams['axes.linewidth'] = 1\n",
    "\n",
    "#plt.scatter(train_y.mean(axis =1), predictions_on_trained_data.mean(axis = 1),edgecolors='white',s = 70,label ='Training Score' )\n",
    "#plt.scatter(test_y.mean(axis = 1), predictions.mean(axis = 1),color = '#ef8a62',edgecolors='white', s = 70,label = 'Test Score' )\n",
    "\n",
    "plt.scatter(train_y, predictions_on_trained_data, color = '#1b9e77',s = 80,label ='Training: $\\:R^2= 0.97$')\n",
    "plt.scatter(test_y, predictions,color = '#ef8a62',alpha= 0.75, s = 80,label = 'Test: $\\:R^2= 0.82$' )\n",
    "\n",
    "\n",
    "ax = plt.gca()\n",
    "ax.set_xlim([0, 10])\n",
    "ax.set_ylim([0, 10])\n",
    "\n",
    "xpoints = ypoints = plt.xlim()\n",
    "plt.plot(xpoints, ypoints, linestyle='--', color='black',label = 'y=x')\n",
    "\n",
    "\n",
    "plt.legend(loc='best', frameon=False,fontsize = 15)\n",
    "\n",
    "plt.tick_params(axis='x', length=4)\n",
    "plt.tick_params(axis='y', length=4)\n",
    "\n",
    "plt.locator_params(axis=\"x\", nbins=5)\n",
    "plt.locator_params(axis=\"y\", nbins=5)\n",
    "    \n",
    "plt.xticks(fontsize=14,fontweight='light')\n",
    "plt.yticks(fontsize=14,fontweight='light')\n",
    "\n",
    "plt.xlabel(\"Actual latent space values\",fontweight='light',fontsize =16)\n",
    "plt.ylabel(\"Predicted latent space values\",fontweight='light',fontsize = 16)\n",
    "\n",
    "#plt.savefig(\"/home/tarak/Ayush/results/R2 score graphs/RF_with_CAE_encoded_1.svg\",bbox_inches='tight')\n",
    "plt.show"
   ]
  },
  {
   "cell_type": "code",
   "execution_count": 87,
   "id": "d22d22ab",
   "metadata": {},
   "outputs": [
    {
     "data": {
      "text/plain": [
       "(62, 8)"
      ]
     },
     "execution_count": 87,
     "metadata": {},
     "output_type": "execute_result"
    }
   ],
   "source": [
    "train_y.shape"
   ]
  },
  {
   "cell_type": "code",
   "execution_count": 88,
   "id": "b1fbf4a0",
   "metadata": {},
   "outputs": [],
   "source": [
    "train_y.resize(62*8,)"
   ]
  },
  {
   "cell_type": "code",
   "execution_count": 89,
   "id": "abf7e1f9",
   "metadata": {},
   "outputs": [
    {
     "data": {
      "text/plain": [
       "(16, 8)"
      ]
     },
     "execution_count": 89,
     "metadata": {},
     "output_type": "execute_result"
    }
   ],
   "source": [
    "test_y.shape"
   ]
  },
  {
   "cell_type": "code",
   "execution_count": 90,
   "id": "81be97f5",
   "metadata": {},
   "outputs": [
    {
     "data": {
      "text/plain": [
       "(62, 8)"
      ]
     },
     "execution_count": 90,
     "metadata": {},
     "output_type": "execute_result"
    }
   ],
   "source": [
    "predictions_on_trained_data.shape"
   ]
  },
  {
   "cell_type": "code",
   "execution_count": 91,
   "id": "c5de6737",
   "metadata": {},
   "outputs": [],
   "source": [
    "predictions_on_trained_data.resize(62*8,)"
   ]
  },
  {
   "cell_type": "code",
   "execution_count": 92,
   "id": "30e3f104",
   "metadata": {},
   "outputs": [
    {
     "data": {
      "text/plain": [
       "(496,)"
      ]
     },
     "execution_count": 92,
     "metadata": {},
     "output_type": "execute_result"
    }
   ],
   "source": [
    "predictions_on_trained_data.shape"
   ]
  },
  {
   "cell_type": "code",
   "execution_count": 94,
   "id": "f0b1978f",
   "metadata": {},
   "outputs": [],
   "source": [
    "#test_y = test_y.to_numpy()\n",
    "#predictions = predictions.to_numpy()"
   ]
  },
  {
   "cell_type": "code",
   "execution_count": 95,
   "id": "cdc50b3d",
   "metadata": {},
   "outputs": [
    {
     "name": "stdout",
     "output_type": "stream",
     "text": [
      "(16, 8)\n",
      "(16, 8)\n"
     ]
    }
   ],
   "source": [
    "print(test_y.shape)\n",
    "print(predictions.shape)"
   ]
  },
  {
   "cell_type": "code",
   "execution_count": 96,
   "id": "eaeead0f",
   "metadata": {},
   "outputs": [],
   "source": [
    "test_y.resize(16*8,)\n",
    "predictions.resize(16*8,)"
   ]
  },
  {
   "cell_type": "code",
   "execution_count": 97,
   "id": "4dfc4728",
   "metadata": {},
   "outputs": [
    {
     "name": "stdout",
     "output_type": "stream",
     "text": [
      "(128,)\n",
      "(128,)\n"
     ]
    }
   ],
   "source": [
    "print(test_y.shape)\n",
    "print(predictions.shape)"
   ]
  },
  {
   "cell_type": "code",
   "execution_count": 98,
   "id": "501bd873",
   "metadata": {},
   "outputs": [],
   "source": [
    "test_y = pd.DataFrame(test_y)\n",
    "predictions = pd.DataFrame(predictions)"
   ]
  },
  {
   "cell_type": "code",
   "execution_count": 99,
   "id": "a5b802b6",
   "metadata": {},
   "outputs": [],
   "source": [
    "train_y=pd.DataFrame(train_y)\n",
    "predictions_on_trained_data = pd.DataFrame(predictions_on_trained_data)"
   ]
  },
  {
   "cell_type": "code",
   "execution_count": 100,
   "id": "013db2df",
   "metadata": {},
   "outputs": [
    {
     "name": "stdout",
     "output_type": "stream",
     "text": [
      "              0     1\n",
      "0  2.655463e-08  Test\n",
      "1  3.442884e+00  Test\n",
      "2  5.313842e+00  Test\n",
      "3  0.000000e+00  Test\n",
      "4  1.593353e+00  Test\n"
     ]
    }
   ],
   "source": [
    "test_y[\"1\"]=\"\"\n",
    "test_y.iloc[:,1] = 'Test'\n",
    "print(test_y.head())"
   ]
  },
  {
   "cell_type": "code",
   "execution_count": 101,
   "id": "fefc1d9a",
   "metadata": {},
   "outputs": [
    {
     "data": {
      "text/html": [
       "<div>\n",
       "<style scoped>\n",
       "    .dataframe tbody tr th:only-of-type {\n",
       "        vertical-align: middle;\n",
       "    }\n",
       "\n",
       "    .dataframe tbody tr th {\n",
       "        vertical-align: top;\n",
       "    }\n",
       "\n",
       "    .dataframe thead th {\n",
       "        text-align: right;\n",
       "    }\n",
       "</style>\n",
       "<table border=\"1\" class=\"dataframe\">\n",
       "  <thead>\n",
       "    <tr style=\"text-align: right;\">\n",
       "      <th></th>\n",
       "      <th>0</th>\n",
       "      <th>1</th>\n",
       "    </tr>\n",
       "  </thead>\n",
       "  <tbody>\n",
       "    <tr>\n",
       "      <th>0</th>\n",
       "      <td>0.677832</td>\n",
       "      <td>Test</td>\n",
       "    </tr>\n",
       "    <tr>\n",
       "      <th>1</th>\n",
       "      <td>2.564515</td>\n",
       "      <td>Test</td>\n",
       "    </tr>\n",
       "    <tr>\n",
       "      <th>2</th>\n",
       "      <td>5.567249</td>\n",
       "      <td>Test</td>\n",
       "    </tr>\n",
       "    <tr>\n",
       "      <th>3</th>\n",
       "      <td>0.000000</td>\n",
       "      <td>Test</td>\n",
       "    </tr>\n",
       "    <tr>\n",
       "      <th>4</th>\n",
       "      <td>3.431088</td>\n",
       "      <td>Test</td>\n",
       "    </tr>\n",
       "  </tbody>\n",
       "</table>\n",
       "</div>"
      ],
      "text/plain": [
       "          0     1\n",
       "0  0.677832  Test\n",
       "1  2.564515  Test\n",
       "2  5.567249  Test\n",
       "3  0.000000  Test\n",
       "4  3.431088  Test"
      ]
     },
     "execution_count": 101,
     "metadata": {},
     "output_type": "execute_result"
    }
   ],
   "source": [
    "predictions[\"1\"]= \"\"\n",
    "predictions.iloc[:,1] = 'Test'\n",
    "predictions.head()"
   ]
  },
  {
   "cell_type": "code",
   "execution_count": 102,
   "id": "564bb2a0",
   "metadata": {},
   "outputs": [
    {
     "name": "stdout",
     "output_type": "stream",
     "text": [
      "              0         1\n",
      "0  2.957522e+00  Training\n",
      "1 -1.031619e-07  Training\n",
      "2  1.931879e+00  Training\n",
      "3  0.000000e+00  Training\n",
      "4  8.968077e+00  Training\n"
     ]
    }
   ],
   "source": [
    "train_y[\"1\"]=\"\"\n",
    "train_y.iloc[:,1] = 'Training'\n",
    "print(train_y.head())"
   ]
  },
  {
   "cell_type": "code",
   "execution_count": 103,
   "id": "80e7ce5a",
   "metadata": {},
   "outputs": [
    {
     "data": {
      "text/html": [
       "<div>\n",
       "<style scoped>\n",
       "    .dataframe tbody tr th:only-of-type {\n",
       "        vertical-align: middle;\n",
       "    }\n",
       "\n",
       "    .dataframe tbody tr th {\n",
       "        vertical-align: top;\n",
       "    }\n",
       "\n",
       "    .dataframe thead th {\n",
       "        text-align: right;\n",
       "    }\n",
       "</style>\n",
       "<table border=\"1\" class=\"dataframe\">\n",
       "  <thead>\n",
       "    <tr style=\"text-align: right;\">\n",
       "      <th></th>\n",
       "      <th>0</th>\n",
       "      <th>1</th>\n",
       "    </tr>\n",
       "  </thead>\n",
       "  <tbody>\n",
       "    <tr>\n",
       "      <th>0</th>\n",
       "      <td>3.106022e+00</td>\n",
       "      <td>Training</td>\n",
       "    </tr>\n",
       "    <tr>\n",
       "      <th>1</th>\n",
       "      <td>-4.709515e-08</td>\n",
       "      <td>Training</td>\n",
       "    </tr>\n",
       "    <tr>\n",
       "      <th>2</th>\n",
       "      <td>1.994735e+00</td>\n",
       "      <td>Training</td>\n",
       "    </tr>\n",
       "    <tr>\n",
       "      <th>3</th>\n",
       "      <td>0.000000e+00</td>\n",
       "      <td>Training</td>\n",
       "    </tr>\n",
       "    <tr>\n",
       "      <th>4</th>\n",
       "      <td>8.648353e+00</td>\n",
       "      <td>Training</td>\n",
       "    </tr>\n",
       "  </tbody>\n",
       "</table>\n",
       "</div>"
      ],
      "text/plain": [
       "              0         1\n",
       "0  3.106022e+00  Training\n",
       "1 -4.709515e-08  Training\n",
       "2  1.994735e+00  Training\n",
       "3  0.000000e+00  Training\n",
       "4  8.648353e+00  Training"
      ]
     },
     "execution_count": 103,
     "metadata": {},
     "output_type": "execute_result"
    }
   ],
   "source": [
    "predictions_on_trained_data[\"1\"]= \"\"\n",
    "predictions_on_trained_data.iloc[:,1] = 'Training'\n",
    "predictions_on_trained_data.head()"
   ]
  },
  {
   "cell_type": "code",
   "execution_count": 104,
   "id": "a18ba8d6",
   "metadata": {},
   "outputs": [
    {
     "data": {
      "text/html": [
       "<div>\n",
       "<style scoped>\n",
       "    .dataframe tbody tr th:only-of-type {\n",
       "        vertical-align: middle;\n",
       "    }\n",
       "\n",
       "    .dataframe tbody tr th {\n",
       "        vertical-align: top;\n",
       "    }\n",
       "\n",
       "    .dataframe thead th {\n",
       "        text-align: right;\n",
       "    }\n",
       "</style>\n",
       "<table border=\"1\" class=\"dataframe\">\n",
       "  <thead>\n",
       "    <tr style=\"text-align: right;\">\n",
       "      <th></th>\n",
       "      <th>0</th>\n",
       "      <th>1</th>\n",
       "    </tr>\n",
       "  </thead>\n",
       "  <tbody>\n",
       "    <tr>\n",
       "      <th>0</th>\n",
       "      <td>2.957522e+00</td>\n",
       "      <td>Training</td>\n",
       "    </tr>\n",
       "    <tr>\n",
       "      <th>1</th>\n",
       "      <td>-1.031619e-07</td>\n",
       "      <td>Training</td>\n",
       "    </tr>\n",
       "    <tr>\n",
       "      <th>2</th>\n",
       "      <td>1.931879e+00</td>\n",
       "      <td>Training</td>\n",
       "    </tr>\n",
       "    <tr>\n",
       "      <th>3</th>\n",
       "      <td>0.000000e+00</td>\n",
       "      <td>Training</td>\n",
       "    </tr>\n",
       "    <tr>\n",
       "      <th>4</th>\n",
       "      <td>8.968077e+00</td>\n",
       "      <td>Training</td>\n",
       "    </tr>\n",
       "    <tr>\n",
       "      <th>...</th>\n",
       "      <td>...</td>\n",
       "      <td>...</td>\n",
       "    </tr>\n",
       "    <tr>\n",
       "      <th>619</th>\n",
       "      <td>0.000000e+00</td>\n",
       "      <td>Test</td>\n",
       "    </tr>\n",
       "    <tr>\n",
       "      <th>620</th>\n",
       "      <td>8.500481e+00</td>\n",
       "      <td>Test</td>\n",
       "    </tr>\n",
       "    <tr>\n",
       "      <th>621</th>\n",
       "      <td>8.630235e-01</td>\n",
       "      <td>Test</td>\n",
       "    </tr>\n",
       "    <tr>\n",
       "      <th>622</th>\n",
       "      <td>-5.712112e-08</td>\n",
       "      <td>Test</td>\n",
       "    </tr>\n",
       "    <tr>\n",
       "      <th>623</th>\n",
       "      <td>0.000000e+00</td>\n",
       "      <td>Test</td>\n",
       "    </tr>\n",
       "  </tbody>\n",
       "</table>\n",
       "<p>624 rows × 2 columns</p>\n",
       "</div>"
      ],
      "text/plain": [
       "                0         1\n",
       "0    2.957522e+00  Training\n",
       "1   -1.031619e-07  Training\n",
       "2    1.931879e+00  Training\n",
       "3    0.000000e+00  Training\n",
       "4    8.968077e+00  Training\n",
       "..            ...       ...\n",
       "619  0.000000e+00      Test\n",
       "620  8.500481e+00      Test\n",
       "621  8.630235e-01      Test\n",
       "622 -5.712112e-08      Test\n",
       "623  0.000000e+00      Test\n",
       "\n",
       "[624 rows x 2 columns]"
      ]
     },
     "execution_count": 104,
     "metadata": {},
     "output_type": "execute_result"
    }
   ],
   "source": [
    "data = [train_y, test_y]\n",
    "df1 = pd.concat(data,ignore_index=True)\n",
    "df1"
   ]
  },
  {
   "cell_type": "code",
   "execution_count": 105,
   "id": "f87620da",
   "metadata": {},
   "outputs": [
    {
     "data": {
      "text/html": [
       "<div>\n",
       "<style scoped>\n",
       "    .dataframe tbody tr th:only-of-type {\n",
       "        vertical-align: middle;\n",
       "    }\n",
       "\n",
       "    .dataframe tbody tr th {\n",
       "        vertical-align: top;\n",
       "    }\n",
       "\n",
       "    .dataframe thead th {\n",
       "        text-align: right;\n",
       "    }\n",
       "</style>\n",
       "<table border=\"1\" class=\"dataframe\">\n",
       "  <thead>\n",
       "    <tr style=\"text-align: right;\">\n",
       "      <th></th>\n",
       "      <th>0</th>\n",
       "      <th>1</th>\n",
       "    </tr>\n",
       "  </thead>\n",
       "  <tbody>\n",
       "    <tr>\n",
       "      <th>0</th>\n",
       "      <td>3.106022e+00</td>\n",
       "      <td>Training</td>\n",
       "    </tr>\n",
       "    <tr>\n",
       "      <th>1</th>\n",
       "      <td>-4.709515e-08</td>\n",
       "      <td>Training</td>\n",
       "    </tr>\n",
       "    <tr>\n",
       "      <th>2</th>\n",
       "      <td>1.994735e+00</td>\n",
       "      <td>Training</td>\n",
       "    </tr>\n",
       "    <tr>\n",
       "      <th>3</th>\n",
       "      <td>0.000000e+00</td>\n",
       "      <td>Training</td>\n",
       "    </tr>\n",
       "    <tr>\n",
       "      <th>4</th>\n",
       "      <td>8.648353e+00</td>\n",
       "      <td>Training</td>\n",
       "    </tr>\n",
       "    <tr>\n",
       "      <th>...</th>\n",
       "      <td>...</td>\n",
       "      <td>...</td>\n",
       "    </tr>\n",
       "    <tr>\n",
       "      <th>619</th>\n",
       "      <td>0.000000e+00</td>\n",
       "      <td>Test</td>\n",
       "    </tr>\n",
       "    <tr>\n",
       "      <th>620</th>\n",
       "      <td>8.582801e+00</td>\n",
       "      <td>Test</td>\n",
       "    </tr>\n",
       "    <tr>\n",
       "      <th>621</th>\n",
       "      <td>1.596591e+00</td>\n",
       "      <td>Test</td>\n",
       "    </tr>\n",
       "    <tr>\n",
       "      <th>622</th>\n",
       "      <td>-1.234231e-07</td>\n",
       "      <td>Test</td>\n",
       "    </tr>\n",
       "    <tr>\n",
       "      <th>623</th>\n",
       "      <td>0.000000e+00</td>\n",
       "      <td>Test</td>\n",
       "    </tr>\n",
       "  </tbody>\n",
       "</table>\n",
       "<p>624 rows × 2 columns</p>\n",
       "</div>"
      ],
      "text/plain": [
       "                0         1\n",
       "0    3.106022e+00  Training\n",
       "1   -4.709515e-08  Training\n",
       "2    1.994735e+00  Training\n",
       "3    0.000000e+00  Training\n",
       "4    8.648353e+00  Training\n",
       "..            ...       ...\n",
       "619  0.000000e+00      Test\n",
       "620  8.582801e+00      Test\n",
       "621  1.596591e+00      Test\n",
       "622 -1.234231e-07      Test\n",
       "623  0.000000e+00      Test\n",
       "\n",
       "[624 rows x 2 columns]"
      ]
     },
     "execution_count": 105,
     "metadata": {},
     "output_type": "execute_result"
    }
   ],
   "source": [
    "data = [predictions_on_trained_data, predictions]\n",
    "df2 = pd.concat(data,ignore_index=True)\n",
    "df2"
   ]
  },
  {
   "cell_type": "code",
   "execution_count": 106,
   "id": "15316a03",
   "metadata": {},
   "outputs": [],
   "source": [
    "df1.columns =['Values', '']"
   ]
  },
  {
   "cell_type": "code",
   "execution_count": 107,
   "id": "87a4ec87",
   "metadata": {},
   "outputs": [],
   "source": [
    "df2.columns =['Values','']"
   ]
  },
  {
   "cell_type": "code",
   "execution_count": 108,
   "id": "a69e8c45",
   "metadata": {},
   "outputs": [
    {
     "data": {
      "text/html": [
       "<div>\n",
       "<style scoped>\n",
       "    .dataframe tbody tr th:only-of-type {\n",
       "        vertical-align: middle;\n",
       "    }\n",
       "\n",
       "    .dataframe tbody tr th {\n",
       "        vertical-align: top;\n",
       "    }\n",
       "\n",
       "    .dataframe thead th {\n",
       "        text-align: right;\n",
       "    }\n",
       "</style>\n",
       "<table border=\"1\" class=\"dataframe\">\n",
       "  <thead>\n",
       "    <tr style=\"text-align: right;\">\n",
       "      <th></th>\n",
       "      <th>Values</th>\n",
       "      <th></th>\n",
       "    </tr>\n",
       "  </thead>\n",
       "  <tbody>\n",
       "    <tr>\n",
       "      <th>0</th>\n",
       "      <td>2.957522e+00</td>\n",
       "      <td>Training</td>\n",
       "    </tr>\n",
       "    <tr>\n",
       "      <th>1</th>\n",
       "      <td>-1.031619e-07</td>\n",
       "      <td>Training</td>\n",
       "    </tr>\n",
       "    <tr>\n",
       "      <th>2</th>\n",
       "      <td>1.931879e+00</td>\n",
       "      <td>Training</td>\n",
       "    </tr>\n",
       "    <tr>\n",
       "      <th>3</th>\n",
       "      <td>0.000000e+00</td>\n",
       "      <td>Training</td>\n",
       "    </tr>\n",
       "    <tr>\n",
       "      <th>4</th>\n",
       "      <td>8.968077e+00</td>\n",
       "      <td>Training</td>\n",
       "    </tr>\n",
       "    <tr>\n",
       "      <th>...</th>\n",
       "      <td>...</td>\n",
       "      <td>...</td>\n",
       "    </tr>\n",
       "    <tr>\n",
       "      <th>619</th>\n",
       "      <td>0.000000e+00</td>\n",
       "      <td>Test</td>\n",
       "    </tr>\n",
       "    <tr>\n",
       "      <th>620</th>\n",
       "      <td>8.500481e+00</td>\n",
       "      <td>Test</td>\n",
       "    </tr>\n",
       "    <tr>\n",
       "      <th>621</th>\n",
       "      <td>8.630235e-01</td>\n",
       "      <td>Test</td>\n",
       "    </tr>\n",
       "    <tr>\n",
       "      <th>622</th>\n",
       "      <td>-5.712112e-08</td>\n",
       "      <td>Test</td>\n",
       "    </tr>\n",
       "    <tr>\n",
       "      <th>623</th>\n",
       "      <td>0.000000e+00</td>\n",
       "      <td>Test</td>\n",
       "    </tr>\n",
       "  </tbody>\n",
       "</table>\n",
       "<p>624 rows × 2 columns</p>\n",
       "</div>"
      ],
      "text/plain": [
       "           Values          \n",
       "0    2.957522e+00  Training\n",
       "1   -1.031619e-07  Training\n",
       "2    1.931879e+00  Training\n",
       "3    0.000000e+00  Training\n",
       "4    8.968077e+00  Training\n",
       "..            ...       ...\n",
       "619  0.000000e+00      Test\n",
       "620  8.500481e+00      Test\n",
       "621  8.630235e-01      Test\n",
       "622 -5.712112e-08      Test\n",
       "623  0.000000e+00      Test\n",
       "\n",
       "[624 rows x 2 columns]"
      ]
     },
     "execution_count": 108,
     "metadata": {},
     "output_type": "execute_result"
    }
   ],
   "source": [
    "df1"
   ]
  },
  {
   "cell_type": "code",
   "execution_count": 114,
   "id": "9fb2c8de",
   "metadata": {},
   "outputs": [
    {
     "name": "stderr",
     "output_type": "stream",
     "text": [
      "/home/tarak/anaconda3/lib/python3.8/site-packages/seaborn/_decorators.py:36: FutureWarning: Pass the following variables as keyword args: x, y. From version 0.12, the only valid positional argument will be `data`, and passing other arguments without an explicit keyword will result in an error or misinterpretation.\n",
      "  warnings.warn(\n"
     ]
    },
    {
     "data": {
      "image/png": "[encoded data removed]",
      "text/plain": [
       "<Figure size 648x648 with 3 Axes>"
      ]
     },
     "metadata": {},
     "output_type": "display_data"
    }
   ],
   "source": [
    "import seaborn as sns\n",
    "sns.set(font_scale = 1.3)\n",
    "sns.set_style('white')\n",
    "\n",
    "plt.rcParams['axes.linewidth'] = 1.25\n",
    "\n",
    "#ax = plt.gca()\n",
    "#ax.set_xlim([-0.4, 20])\n",
    "#ax.set_ylim([-0,4, 20])\n",
    "\n",
    "g = sns.JointGrid(df1.iloc[:,0], df2.iloc[:,0], xlim=(-0.4,10), ylim=(-0.4,10),height=9,space = 0.05,ratio = 4,hue=df1.iloc[:,1],palette=['#1b9e77','#ef8a62'])\n",
    "\n",
    "g.set_axis_labels('Actual latent space values','Predicted latent space values',fontsize=18)\n",
    "\n",
    "g.plot_joint(sns.scatterplot,color = '#1b9e77',s = 75,alpha =1.0)\n",
    "\n",
    "g.ax_joint.plot([-0.4,10], [-0.4,10], linestyle ='--',color='black', linewidth = 2.0)\n",
    "\n",
    "g.ax_joint.locator_params(axis=\"x\", nbins=5)\n",
    "g.ax_joint.locator_params(axis=\"y\", nbins=5)\n",
    "\n",
    "g.ax_joint.legend(loc='best', frameon=True,fontsize = 18)\n",
    "\n",
    "#g.ax_marg_y.set_ylim(-0.4,20)\n",
    "#g.ax_marg_x.set_xlim(-0.4,20)\n",
    "\n",
    "#.ax_marg_x.legend\n",
    "\n",
    "g.plot_marginals(sns.kdeplot, fill=True,color='#1b9e77',linewidth = 2.0)\n",
    "\n",
    "#plt.savefig(\"/home/tarak/Ayush/results/R2 score graphs/RF_with_CAE.pdf\",bbox_inches='tight')\n",
    "\n",
    "plt.show()"
   ]
  },
  {
   "cell_type": "markdown",
   "id": "949e223d",
   "metadata": {},
   "source": [
    "# UN-NORMALISATION"
   ]
  },
  {
   "cell_type": "code",
   "execution_count": 42,
   "id": "1bf6bea6",
   "metadata": {},
   "outputs": [],
   "source": [
    "dataframe_x = scaler2_x.inverse_transform(dataframe_x)\n",
    "dataframe_y = scaler2_y.inverse_transform(dataframe_y)\n",
    "\n",
    "train_y = scaler2_y.inverse_transform(train_y)\n",
    "predictions_on_trained_data = scaler2_y.inverse_transform(predictions_on_trained_data)\n",
    "test_y = scaler2_y.inverse_transform(test_y)\n",
    "predictions = scaler2_y.inverse_transform(predictions)"
   ]
  },
  {
   "cell_type": "code",
   "execution_count": 43,
   "id": "216d0dd0",
   "metadata": {},
   "outputs": [],
   "source": [
    "dataframe_x = scaler_x.inverse_transform(dataframe_x)\n",
    "dataframe_y = scaler_y.inverse_transform(dataframe_y)\n",
    "\n",
    "train_y = scaler_y.inverse_transform(train_y)\n",
    "predictions_on_trained_data = scaler_y.inverse_transform(predictions_on_trained_data)\n",
    "test_y = scaler_y.inverse_transform(test_y)\n",
    "predictions = scaler_y.inverse_transform(predictions)"
   ]
  },
  {
   "cell_type": "markdown",
   "id": "0ebbdcf7",
   "metadata": {},
   "source": [
    "# RESIZING PREDICTIONS ON TEST DATA"
   ]
  },
  {
   "cell_type": "code",
   "execution_count": 44,
   "id": "c804a525",
   "metadata": {},
   "outputs": [
    {
     "data": {
      "text/plain": [
       "(16, 1, 1, 8)"
      ]
     },
     "execution_count": 44,
     "metadata": {},
     "output_type": "execute_result"
    }
   ],
   "source": [
    "predictions.resize(16,1,1,8)\n",
    "predictions.shape"
   ]
  },
  {
   "cell_type": "code",
   "execution_count": 45,
   "id": "b3f0ba28",
   "metadata": {},
   "outputs": [
    {
     "name": "stdout",
     "output_type": "stream",
     "text": [
      "Stored 'predictions' (ndarray)\n"
     ]
    }
   ],
   "source": [
    "%store predictions"
   ]
  },
  {
   "cell_type": "code",
   "execution_count": 46,
   "id": "4b331e67",
   "metadata": {},
   "outputs": [
    {
     "data": {
      "text/plain": [
       "(16, 8)"
      ]
     },
     "execution_count": 46,
     "metadata": {},
     "output_type": "execute_result"
    }
   ],
   "source": [
    "test_y.shape"
   ]
  },
  {
   "cell_type": "code",
   "execution_count": 47,
   "id": "52ffceab",
   "metadata": {},
   "outputs": [
    {
     "data": {
      "text/html": [
       "<div>\n",
       "<style scoped>\n",
       "    .dataframe tbody tr th:only-of-type {\n",
       "        vertical-align: middle;\n",
       "    }\n",
       "\n",
       "    .dataframe tbody tr th {\n",
       "        vertical-align: top;\n",
       "    }\n",
       "\n",
       "    .dataframe thead th {\n",
       "        text-align: right;\n",
       "    }\n",
       "</style>\n",
       "<table border=\"1\" class=\"dataframe\">\n",
       "  <thead>\n",
       "    <tr style=\"text-align: right;\">\n",
       "      <th></th>\n",
       "      <th>0</th>\n",
       "      <th>1</th>\n",
       "      <th>2</th>\n",
       "      <th>3</th>\n",
       "      <th>4</th>\n",
       "      <th>5</th>\n",
       "      <th>6</th>\n",
       "      <th>7</th>\n",
       "    </tr>\n",
       "  </thead>\n",
       "  <tbody>\n",
       "    <tr>\n",
       "      <th>0</th>\n",
       "      <td>2.655463e-08</td>\n",
       "      <td>3.442884e+00</td>\n",
       "      <td>5.313842</td>\n",
       "      <td>0.0</td>\n",
       "      <td>1.593353</td>\n",
       "      <td>1.674423</td>\n",
       "      <td>2.483537e+00</td>\n",
       "      <td>0.0</td>\n",
       "    </tr>\n",
       "    <tr>\n",
       "      <th>1</th>\n",
       "      <td>5.460920e+00</td>\n",
       "      <td>-1.031619e-07</td>\n",
       "      <td>5.254953</td>\n",
       "      <td>0.0</td>\n",
       "      <td>4.073275</td>\n",
       "      <td>3.691249</td>\n",
       "      <td>1.227391e+00</td>\n",
       "      <td>0.0</td>\n",
       "    </tr>\n",
       "    <tr>\n",
       "      <th>2</th>\n",
       "      <td>2.651542e+00</td>\n",
       "      <td>2.121465e+00</td>\n",
       "      <td>6.212233</td>\n",
       "      <td>0.0</td>\n",
       "      <td>1.374281</td>\n",
       "      <td>3.176482</td>\n",
       "      <td>3.514854e+00</td>\n",
       "      <td>0.0</td>\n",
       "    </tr>\n",
       "    <tr>\n",
       "      <th>3</th>\n",
       "      <td>3.775093e+00</td>\n",
       "      <td>9.237225e-01</td>\n",
       "      <td>5.501054</td>\n",
       "      <td>0.0</td>\n",
       "      <td>1.419167</td>\n",
       "      <td>4.894078</td>\n",
       "      <td>3.056281e+00</td>\n",
       "      <td>0.0</td>\n",
       "    </tr>\n",
       "    <tr>\n",
       "      <th>4</th>\n",
       "      <td>4.982647e+00</td>\n",
       "      <td>-1.031619e-07</td>\n",
       "      <td>2.277762</td>\n",
       "      <td>0.0</td>\n",
       "      <td>5.247296</td>\n",
       "      <td>4.097417</td>\n",
       "      <td>6.533247e-02</td>\n",
       "      <td>0.0</td>\n",
       "    </tr>\n",
       "    <tr>\n",
       "      <th>5</th>\n",
       "      <td>9.541233e-01</td>\n",
       "      <td>1.911337e+00</td>\n",
       "      <td>3.682174</td>\n",
       "      <td>0.0</td>\n",
       "      <td>1.330593</td>\n",
       "      <td>4.107999</td>\n",
       "      <td>3.530999e+00</td>\n",
       "      <td>0.0</td>\n",
       "    </tr>\n",
       "    <tr>\n",
       "      <th>6</th>\n",
       "      <td>4.045355e+00</td>\n",
       "      <td>2.075034e+00</td>\n",
       "      <td>8.436440</td>\n",
       "      <td>0.0</td>\n",
       "      <td>3.089532</td>\n",
       "      <td>0.112626</td>\n",
       "      <td>2.350237e+00</td>\n",
       "      <td>0.0</td>\n",
       "    </tr>\n",
       "    <tr>\n",
       "      <th>7</th>\n",
       "      <td>5.022484e+00</td>\n",
       "      <td>-1.031619e-07</td>\n",
       "      <td>4.635832</td>\n",
       "      <td>0.0</td>\n",
       "      <td>6.184453</td>\n",
       "      <td>2.697393</td>\n",
       "      <td>7.814101e-01</td>\n",
       "      <td>0.0</td>\n",
       "    </tr>\n",
       "    <tr>\n",
       "      <th>8</th>\n",
       "      <td>5.060379e+00</td>\n",
       "      <td>-1.031619e-07</td>\n",
       "      <td>1.755489</td>\n",
       "      <td>0.0</td>\n",
       "      <td>5.349020</td>\n",
       "      <td>5.245183</td>\n",
       "      <td>7.503885e-02</td>\n",
       "      <td>0.0</td>\n",
       "    </tr>\n",
       "    <tr>\n",
       "      <th>9</th>\n",
       "      <td>3.277231e+00</td>\n",
       "      <td>2.334212e+00</td>\n",
       "      <td>7.113399</td>\n",
       "      <td>0.0</td>\n",
       "      <td>1.462676</td>\n",
       "      <td>1.813472</td>\n",
       "      <td>3.158813e+00</td>\n",
       "      <td>0.0</td>\n",
       "    </tr>\n",
       "    <tr>\n",
       "      <th>10</th>\n",
       "      <td>1.805905e+00</td>\n",
       "      <td>5.254895e-01</td>\n",
       "      <td>1.369795</td>\n",
       "      <td>0.0</td>\n",
       "      <td>1.516697</td>\n",
       "      <td>5.998431</td>\n",
       "      <td>2.517296e+00</td>\n",
       "      <td>0.0</td>\n",
       "    </tr>\n",
       "    <tr>\n",
       "      <th>11</th>\n",
       "      <td>1.894452e+00</td>\n",
       "      <td>3.684069e-01</td>\n",
       "      <td>1.294352</td>\n",
       "      <td>0.0</td>\n",
       "      <td>1.671486</td>\n",
       "      <td>6.174792</td>\n",
       "      <td>2.541439e+00</td>\n",
       "      <td>0.0</td>\n",
       "    </tr>\n",
       "    <tr>\n",
       "      <th>12</th>\n",
       "      <td>2.655463e-08</td>\n",
       "      <td>3.388349e+00</td>\n",
       "      <td>5.191074</td>\n",
       "      <td>0.0</td>\n",
       "      <td>1.478859</td>\n",
       "      <td>1.859326</td>\n",
       "      <td>2.483204e+00</td>\n",
       "      <td>0.0</td>\n",
       "    </tr>\n",
       "    <tr>\n",
       "      <th>13</th>\n",
       "      <td>3.364407e+00</td>\n",
       "      <td>-1.031619e-07</td>\n",
       "      <td>4.365564</td>\n",
       "      <td>0.0</td>\n",
       "      <td>0.925848</td>\n",
       "      <td>6.984966</td>\n",
       "      <td>3.129325e+00</td>\n",
       "      <td>0.0</td>\n",
       "    </tr>\n",
       "    <tr>\n",
       "      <th>14</th>\n",
       "      <td>1.922872e+00</td>\n",
       "      <td>1.425293e+00</td>\n",
       "      <td>4.527129</td>\n",
       "      <td>0.0</td>\n",
       "      <td>1.653474</td>\n",
       "      <td>6.233532</td>\n",
       "      <td>4.231251e+00</td>\n",
       "      <td>0.0</td>\n",
       "    </tr>\n",
       "    <tr>\n",
       "      <th>15</th>\n",
       "      <td>1.870818e-01</td>\n",
       "      <td>-1.031619e-07</td>\n",
       "      <td>0.129711</td>\n",
       "      <td>0.0</td>\n",
       "      <td>8.500481</td>\n",
       "      <td>0.863024</td>\n",
       "      <td>-5.712112e-08</td>\n",
       "      <td>0.0</td>\n",
       "    </tr>\n",
       "  </tbody>\n",
       "</table>\n",
       "</div>"
      ],
      "text/plain": [
       "               0             1         2    3         4         5  \\\n",
       "0   2.655463e-08  3.442884e+00  5.313842  0.0  1.593353  1.674423   \n",
       "1   5.460920e+00 -1.031619e-07  5.254953  0.0  4.073275  3.691249   \n",
       "2   2.651542e+00  2.121465e+00  6.212233  0.0  1.374281  3.176482   \n",
       "3   3.775093e+00  9.237225e-01  5.501054  0.0  1.419167  4.894078   \n",
       "4   4.982647e+00 -1.031619e-07  2.277762  0.0  5.247296  4.097417   \n",
       "5   9.541233e-01  1.911337e+00  3.682174  0.0  1.330593  4.107999   \n",
       "6   4.045355e+00  2.075034e+00  8.436440  0.0  3.089532  0.112626   \n",
       "7   5.022484e+00 -1.031619e-07  4.635832  0.0  6.184453  2.697393   \n",
       "8   5.060379e+00 -1.031619e-07  1.755489  0.0  5.349020  5.245183   \n",
       "9   3.277231e+00  2.334212e+00  7.113399  0.0  1.462676  1.813472   \n",
       "10  1.805905e+00  5.254895e-01  1.369795  0.0  1.516697  5.998431   \n",
       "11  1.894452e+00  3.684069e-01  1.294352  0.0  1.671486  6.174792   \n",
       "12  2.655463e-08  3.388349e+00  5.191074  0.0  1.478859  1.859326   \n",
       "13  3.364407e+00 -1.031619e-07  4.365564  0.0  0.925848  6.984966   \n",
       "14  1.922872e+00  1.425293e+00  4.527129  0.0  1.653474  6.233532   \n",
       "15  1.870818e-01 -1.031619e-07  0.129711  0.0  8.500481  0.863024   \n",
       "\n",
       "               6    7  \n",
       "0   2.483537e+00  0.0  \n",
       "1   1.227391e+00  0.0  \n",
       "2   3.514854e+00  0.0  \n",
       "3   3.056281e+00  0.0  \n",
       "4   6.533247e-02  0.0  \n",
       "5   3.530999e+00  0.0  \n",
       "6   2.350237e+00  0.0  \n",
       "7   7.814101e-01  0.0  \n",
       "8   7.503885e-02  0.0  \n",
       "9   3.158813e+00  0.0  \n",
       "10  2.517296e+00  0.0  \n",
       "11  2.541439e+00  0.0  \n",
       "12  2.483204e+00  0.0  \n",
       "13  3.129325e+00  0.0  \n",
       "14  4.231251e+00  0.0  \n",
       "15 -5.712112e-08  0.0  "
      ]
     },
     "execution_count": 47,
     "metadata": {},
     "output_type": "execute_result"
    }
   ],
   "source": [
    "#test_y.reshape(8,8)\n",
    "dataframe_test_y = pd.DataFrame(test_y)\n",
    "dataframe_test_y"
   ]
  },
  {
   "cell_type": "code",
   "execution_count": 48,
   "id": "66529410",
   "metadata": {},
   "outputs": [
    {
     "data": {
      "text/html": [
       "<div>\n",
       "<style scoped>\n",
       "    .dataframe tbody tr th:only-of-type {\n",
       "        vertical-align: middle;\n",
       "    }\n",
       "\n",
       "    .dataframe tbody tr th {\n",
       "        vertical-align: top;\n",
       "    }\n",
       "\n",
       "    .dataframe thead th {\n",
       "        text-align: right;\n",
       "    }\n",
       "</style>\n",
       "<table border=\"1\" class=\"dataframe\">\n",
       "  <thead>\n",
       "    <tr style=\"text-align: right;\">\n",
       "      <th></th>\n",
       "      <th>0</th>\n",
       "      <th>1</th>\n",
       "      <th>2</th>\n",
       "      <th>3</th>\n",
       "      <th>4</th>\n",
       "      <th>5</th>\n",
       "      <th>6</th>\n",
       "      <th>7</th>\n",
       "    </tr>\n",
       "  </thead>\n",
       "  <tbody>\n",
       "    <tr>\n",
       "      <th>0</th>\n",
       "      <td>0.677832</td>\n",
       "      <td>2.564515e+00</td>\n",
       "      <td>5.567249</td>\n",
       "      <td>0.0</td>\n",
       "      <td>3.431088</td>\n",
       "      <td>1.236076</td>\n",
       "      <td>2.037538e+00</td>\n",
       "      <td>0.0</td>\n",
       "    </tr>\n",
       "    <tr>\n",
       "      <th>1</th>\n",
       "      <td>4.622658</td>\n",
       "      <td>6.970129e-01</td>\n",
       "      <td>6.057133</td>\n",
       "      <td>0.0</td>\n",
       "      <td>3.733019</td>\n",
       "      <td>2.227839</td>\n",
       "      <td>1.442047e+00</td>\n",
       "      <td>0.0</td>\n",
       "    </tr>\n",
       "    <tr>\n",
       "      <th>2</th>\n",
       "      <td>2.375884</td>\n",
       "      <td>1.224152e+00</td>\n",
       "      <td>4.503957</td>\n",
       "      <td>0.0</td>\n",
       "      <td>3.556011</td>\n",
       "      <td>3.062485</td>\n",
       "      <td>2.181994e+00</td>\n",
       "      <td>0.0</td>\n",
       "    </tr>\n",
       "    <tr>\n",
       "      <th>3</th>\n",
       "      <td>3.832650</td>\n",
       "      <td>8.037761e-01</td>\n",
       "      <td>5.260376</td>\n",
       "      <td>0.0</td>\n",
       "      <td>2.241142</td>\n",
       "      <td>4.248923</td>\n",
       "      <td>2.510904e+00</td>\n",
       "      <td>0.0</td>\n",
       "    </tr>\n",
       "    <tr>\n",
       "      <th>4</th>\n",
       "      <td>4.784289</td>\n",
       "      <td>1.545235e-02</td>\n",
       "      <td>3.071679</td>\n",
       "      <td>0.0</td>\n",
       "      <td>4.089834</td>\n",
       "      <td>4.738422</td>\n",
       "      <td>1.023981e+00</td>\n",
       "      <td>0.0</td>\n",
       "    </tr>\n",
       "    <tr>\n",
       "      <th>5</th>\n",
       "      <td>1.321977</td>\n",
       "      <td>3.027790e+00</td>\n",
       "      <td>4.559774</td>\n",
       "      <td>0.0</td>\n",
       "      <td>1.380234</td>\n",
       "      <td>5.074454</td>\n",
       "      <td>4.387742e+00</td>\n",
       "      <td>0.0</td>\n",
       "    </tr>\n",
       "    <tr>\n",
       "      <th>6</th>\n",
       "      <td>2.140966</td>\n",
       "      <td>1.563546e+00</td>\n",
       "      <td>4.959295</td>\n",
       "      <td>0.0</td>\n",
       "      <td>4.242023</td>\n",
       "      <td>1.738847</td>\n",
       "      <td>1.795144e+00</td>\n",
       "      <td>0.0</td>\n",
       "    </tr>\n",
       "    <tr>\n",
       "      <th>7</th>\n",
       "      <td>5.238672</td>\n",
       "      <td>9.748376e-02</td>\n",
       "      <td>3.879680</td>\n",
       "      <td>0.0</td>\n",
       "      <td>5.881631</td>\n",
       "      <td>3.077630</td>\n",
       "      <td>4.648709e-01</td>\n",
       "      <td>0.0</td>\n",
       "    </tr>\n",
       "    <tr>\n",
       "      <th>8</th>\n",
       "      <td>4.876050</td>\n",
       "      <td>3.024874e-02</td>\n",
       "      <td>3.125484</td>\n",
       "      <td>0.0</td>\n",
       "      <td>3.913638</td>\n",
       "      <td>4.670074</td>\n",
       "      <td>9.932972e-01</td>\n",
       "      <td>0.0</td>\n",
       "    </tr>\n",
       "    <tr>\n",
       "      <th>9</th>\n",
       "      <td>3.831123</td>\n",
       "      <td>2.110886e+00</td>\n",
       "      <td>7.462186</td>\n",
       "      <td>0.0</td>\n",
       "      <td>2.160337</td>\n",
       "      <td>1.394892</td>\n",
       "      <td>2.682021e+00</td>\n",
       "      <td>0.0</td>\n",
       "    </tr>\n",
       "    <tr>\n",
       "      <th>10</th>\n",
       "      <td>3.544424</td>\n",
       "      <td>4.010453e-01</td>\n",
       "      <td>1.980417</td>\n",
       "      <td>0.0</td>\n",
       "      <td>2.404699</td>\n",
       "      <td>6.714293</td>\n",
       "      <td>2.014953e+00</td>\n",
       "      <td>0.0</td>\n",
       "    </tr>\n",
       "    <tr>\n",
       "      <th>11</th>\n",
       "      <td>3.408724</td>\n",
       "      <td>4.642190e-01</td>\n",
       "      <td>1.969245</td>\n",
       "      <td>0.0</td>\n",
       "      <td>2.430529</td>\n",
       "      <td>6.656514</td>\n",
       "      <td>2.092301e+00</td>\n",
       "      <td>0.0</td>\n",
       "    </tr>\n",
       "    <tr>\n",
       "      <th>12</th>\n",
       "      <td>0.911361</td>\n",
       "      <td>2.976094e+00</td>\n",
       "      <td>5.798370</td>\n",
       "      <td>0.0</td>\n",
       "      <td>2.189131</td>\n",
       "      <td>1.384960</td>\n",
       "      <td>2.460441e+00</td>\n",
       "      <td>0.0</td>\n",
       "    </tr>\n",
       "    <tr>\n",
       "      <th>13</th>\n",
       "      <td>3.071844</td>\n",
       "      <td>9.536652e-01</td>\n",
       "      <td>4.666678</td>\n",
       "      <td>0.0</td>\n",
       "      <td>1.336730</td>\n",
       "      <td>5.328415</td>\n",
       "      <td>3.047948e+00</td>\n",
       "      <td>0.0</td>\n",
       "    </tr>\n",
       "    <tr>\n",
       "      <th>14</th>\n",
       "      <td>3.020431</td>\n",
       "      <td>8.173019e-01</td>\n",
       "      <td>4.574649</td>\n",
       "      <td>0.0</td>\n",
       "      <td>1.433899</td>\n",
       "      <td>5.155734</td>\n",
       "      <td>2.958074e+00</td>\n",
       "      <td>0.0</td>\n",
       "    </tr>\n",
       "    <tr>\n",
       "      <th>15</th>\n",
       "      <td>0.983485</td>\n",
       "      <td>-4.709515e-08</td>\n",
       "      <td>0.442252</td>\n",
       "      <td>0.0</td>\n",
       "      <td>8.582801</td>\n",
       "      <td>1.596591</td>\n",
       "      <td>-1.234231e-07</td>\n",
       "      <td>0.0</td>\n",
       "    </tr>\n",
       "  </tbody>\n",
       "</table>\n",
       "</div>"
      ],
      "text/plain": [
       "           0             1         2    3         4         5             6  \\\n",
       "0   0.677832  2.564515e+00  5.567249  0.0  3.431088  1.236076  2.037538e+00   \n",
       "1   4.622658  6.970129e-01  6.057133  0.0  3.733019  2.227839  1.442047e+00   \n",
       "2   2.375884  1.224152e+00  4.503957  0.0  3.556011  3.062485  2.181994e+00   \n",
       "3   3.832650  8.037761e-01  5.260376  0.0  2.241142  4.248923  2.510904e+00   \n",
       "4   4.784289  1.545235e-02  3.071679  0.0  4.089834  4.738422  1.023981e+00   \n",
       "5   1.321977  3.027790e+00  4.559774  0.0  1.380234  5.074454  4.387742e+00   \n",
       "6   2.140966  1.563546e+00  4.959295  0.0  4.242023  1.738847  1.795144e+00   \n",
       "7   5.238672  9.748376e-02  3.879680  0.0  5.881631  3.077630  4.648709e-01   \n",
       "8   4.876050  3.024874e-02  3.125484  0.0  3.913638  4.670074  9.932972e-01   \n",
       "9   3.831123  2.110886e+00  7.462186  0.0  2.160337  1.394892  2.682021e+00   \n",
       "10  3.544424  4.010453e-01  1.980417  0.0  2.404699  6.714293  2.014953e+00   \n",
       "11  3.408724  4.642190e-01  1.969245  0.0  2.430529  6.656514  2.092301e+00   \n",
       "12  0.911361  2.976094e+00  5.798370  0.0  2.189131  1.384960  2.460441e+00   \n",
       "13  3.071844  9.536652e-01  4.666678  0.0  1.336730  5.328415  3.047948e+00   \n",
       "14  3.020431  8.173019e-01  4.574649  0.0  1.433899  5.155734  2.958074e+00   \n",
       "15  0.983485 -4.709515e-08  0.442252  0.0  8.582801  1.596591 -1.234231e-07   \n",
       "\n",
       "      7  \n",
       "0   0.0  \n",
       "1   0.0  \n",
       "2   0.0  \n",
       "3   0.0  \n",
       "4   0.0  \n",
       "5   0.0  \n",
       "6   0.0  \n",
       "7   0.0  \n",
       "8   0.0  \n",
       "9   0.0  \n",
       "10  0.0  \n",
       "11  0.0  \n",
       "12  0.0  \n",
       "13  0.0  \n",
       "14  0.0  \n",
       "15  0.0  "
      ]
     },
     "execution_count": 48,
     "metadata": {},
     "output_type": "execute_result"
    }
   ],
   "source": [
    "predictions.resize(16,8)\n",
    "dataframe_predictions = pd.DataFrame(predictions)\n",
    "dataframe_predictions"
   ]
  },
  {
   "cell_type": "markdown",
   "id": "925078f2",
   "metadata": {},
   "source": [
    "# LATENT SPACE DIAGRAM"
   ]
  },
  {
   "cell_type": "markdown",
   "id": "d0cb621e",
   "metadata": {},
   "source": [
    "image = dataframe_predictions.iloc[0,:]\n",
    "print(image.shape)\n",
    "image = image.to_numpy()\n",
    "image.resize(8,1,1)\n",
    "#image = image*255\n",
    "print(image.shape)\n",
    "print(image)\n",
    "data = Image.fromarray(image)\n",
    "fig, ax = plt.subplots()\n",
    "ax.axis(\"off\")\n",
    "plt.imshow(data)\n",
    "plt.show()"
   ]
  },
  {
   "cell_type": "markdown",
   "id": "513a8f71",
   "metadata": {},
   "source": [
    "# GETTING FULL DIMENSIONS FROM LATENT DIMENSIONS"
   ]
  },
  {
   "cell_type": "code",
   "execution_count": 49,
   "id": "3ea1c5b0",
   "metadata": {},
   "outputs": [],
   "source": [
    "model = load_model('AE.h5')"
   ]
  },
  {
   "cell_type": "code",
   "execution_count": 50,
   "id": "5e5dabd8",
   "metadata": {},
   "outputs": [
    {
     "ename": "AttributeError",
     "evalue": "'Functional' object has no attribute 'get_decoded'",
     "output_type": "error",
     "traceback": [
      "\u001b[0;31m---------------------------------------------------------------------------\u001b[0m",
      "\u001b[0;31mAttributeError\u001b[0m                            Traceback (most recent call last)",
      "\u001b[0;32m<ipython-input-50-e729a3089d7a>\u001b[0m in \u001b[0;36m<module>\u001b[0;34m\u001b[0m\n\u001b[0;32m----> 1\u001b[0;31m \u001b[0mrdf\u001b[0m \u001b[0;34m=\u001b[0m \u001b[0mmodel\u001b[0m\u001b[0;34m.\u001b[0m\u001b[0mget_decoded\u001b[0m\u001b[0;34m.\u001b[0m\u001b[0mpredict\u001b[0m\u001b[0;34m(\u001b[0m\u001b[0mpredictions\u001b[0m\u001b[0;34m)\u001b[0m\u001b[0;34m\u001b[0m\u001b[0;34m\u001b[0m\u001b[0m\n\u001b[0m\u001b[1;32m      2\u001b[0m \u001b[0mrdf\u001b[0m\u001b[0;34m.\u001b[0m\u001b[0mshape\u001b[0m\u001b[0;34m\u001b[0m\u001b[0;34m\u001b[0m\u001b[0m\n",
      "\u001b[0;31mAttributeError\u001b[0m: 'Functional' object has no attribute 'get_decoded'"
     ]
    }
   ],
   "source": [
    "rdf = model.get_decoded.predict(predictions)\n",
    "rdf.shape"
   ]
  },
  {
   "cell_type": "code",
   "execution_count": null,
   "id": "13269498",
   "metadata": {},
   "outputs": [],
   "source": []
  }
 ],
 "metadata": {
  "kernelspec": {
   "display_name": "Python 3",
   "language": "python",
   "name": "python3"
  },
  "language_info": {
   "codemirror_mode": {
    "name": "ipython",
    "version": 3
   },
   "file_extension": ".py",
   "mimetype": "text/x-python",
   "name": "python",
   "nbconvert_exporter": "python",
   "pygments_lexer": "ipython3",
   "version": "3.8.8"
  }
 },
 "nbformat": 4,
 "nbformat_minor": 5
}
